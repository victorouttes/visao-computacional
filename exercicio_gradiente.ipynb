{
 "cells": [
  {
   "cell_type": "code",
   "execution_count": 81,
   "metadata": {},
   "outputs": [],
   "source": [
    "import cv2\n",
    "from matplotlib import pyplot as plt\n",
    "import math\n",
    "import numpy as np\n",
    "%matplotlib inline\n",
    "plt.rcParams['figure.figsize'] = [20, 10]"
   ]
  },
  {
   "cell_type": "code",
   "execution_count": 82,
   "metadata": {},
   "outputs": [],
   "source": [
    "def orientacaofn(img):\n",
    "    h = img.shape[0]\n",
    "    w = img.shape[1]\n",
    "    sobx = cv2.Sobel(img, cv2.CV_64F, 1, 0)\n",
    "    soby = cv2.Sobel(img, cv2.CV_64F, 0, 1)\n",
    "    M = np.zeros([h,w], dtype=np.float64)\n",
    "    O = np.zeros([h,w], dtype=np.float64)\n",
    "    \n",
    "    orientacoes_media = 0\n",
    "    tamanho_media = 0\n",
    "    \n",
    "    for i in range(h):\n",
    "        for j in range(w):\n",
    "            magnitude = np.sqrt(sobx[i,j]**2 + soby[i,j]**2)\n",
    "            if sobx[i,j] == 0 and soby[i,j] != 0:\n",
    "                if magnitude > 0:\n",
    "                    orientacao = np.pi/2\n",
    "                else:\n",
    "                    orientacao = 3 * np.pi/2\n",
    "            elif sobx[i,j] != 0 and soby[i,j] == 0:\n",
    "                if magnitude > 0:\n",
    "                    orientacao = 0\n",
    "                else:\n",
    "                    orientacao = 2 * np.pi\n",
    "            elif sobx[i,j] == 0 and soby[i,j] == 0:\n",
    "                orientacao = 0\n",
    "            else:\n",
    "                divisao = soby[i,j] / sobx[i,j]\n",
    "                orientacao = np.arctan(divisao)\n",
    "\n",
    "            orientacoes_media += orientacao\n",
    "            tamanho_media += 1\n",
    "                \n",
    "    return np.degrees(orientacoes_media/tamanho_media) % 360"
   ]
  },
  {
   "cell_type": "code",
   "execution_count": 83,
   "metadata": {},
   "outputs": [
    {
     "data": {
      "text/plain": [
       "0.0"
      ]
     },
     "execution_count": 83,
     "metadata": {},
     "output_type": "execute_result"
    }
   ],
   "source": [
    "img = cv2.imread('images/or_0.jpg')\n",
    "gray = cv2.cvtColor(img, cv2.COLOR_BGR2GRAY)\n",
    "orientacaofn(gray)"
   ]
  },
  {
   "cell_type": "code",
   "execution_count": 84,
   "metadata": {},
   "outputs": [
    {
     "data": {
      "text/plain": [
       "84.37500000000506"
      ]
     },
     "execution_count": 84,
     "metadata": {},
     "output_type": "execute_result"
    }
   ],
   "source": [
    "img = cv2.imread('images/or_90.jpg')\n",
    "gray = cv2.cvtColor(img, cv2.COLOR_BGR2GRAY)\n",
    "orientacaofn(gray)"
   ]
  },
  {
   "cell_type": "code",
   "execution_count": 85,
   "metadata": {},
   "outputs": [
    {
     "data": {
      "text/plain": [
       "319.53193491128707"
      ]
     },
     "execution_count": 85,
     "metadata": {},
     "output_type": "execute_result"
    }
   ],
   "source": [
    "img = cv2.imread('images/or_312.jpg')\n",
    "gray = cv2.cvtColor(img, cv2.COLOR_BGR2GRAY)\n",
    "orientacaofn(gray)"
   ]
  },
  {
   "cell_type": "code",
   "execution_count": null,
   "metadata": {},
   "outputs": [],
   "source": []
  }
 ],
 "metadata": {
  "kernelspec": {
   "display_name": "Python 3",
   "language": "python",
   "name": "python3"
  },
  "language_info": {
   "codemirror_mode": {
    "name": "ipython",
    "version": 3
   },
   "file_extension": ".py",
   "mimetype": "text/x-python",
   "name": "python",
   "nbconvert_exporter": "python",
   "pygments_lexer": "ipython3",
   "version": "3.7.2"
  }
 },
 "nbformat": 4,
 "nbformat_minor": 2
}
